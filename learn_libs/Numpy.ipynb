{
 "cells": [
  {
   "cell_type": "code",
   "execution_count": 6,
   "metadata": {},
   "outputs": [],
   "source": [
    "import numpy as np"
   ]
  },
  {
   "cell_type": "code",
   "execution_count": null,
   "metadata": {},
   "outputs": [],
   "source": []
  },
  {
   "cell_type": "code",
   "execution_count": null,
   "metadata": {},
   "outputs": [],
   "source": [
    "# LIST vs ARRAY"
   ]
  },
  {
   "cell_type": "code",
   "execution_count": 2,
   "metadata": {},
   "outputs": [],
   "source": [
    "L=[1,2,3]\n",
    "A=np.array([1,2,3])"
   ]
  },
  {
   "cell_type": "code",
   "execution_count": 5,
   "metadata": {},
   "outputs": [
    {
     "name": "stdout",
     "output_type": "stream",
     "text": [
      "Boucle List\n",
      "1\n",
      "2\n",
      "3\n",
      "Boucle Array\n",
      "1\n",
      "2\n",
      "3\n"
     ]
    }
   ],
   "source": [
    "print (\"Boucle List\")\n",
    "for e in L:\n",
    "    print (e)\n",
    "\n",
    "print (\"Boucle Array\")\n",
    "for e in A :\n",
    "    print (e)"
   ]
  },
  {
   "cell_type": "code",
   "execution_count": 6,
   "metadata": {},
   "outputs": [
    {
     "name": "stdout",
     "output_type": "stream",
     "text": [
      "Append new element only in list\n"
     ]
    }
   ],
   "source": [
    "print (\"Append new element only in list\")\n",
    "L.append(4)\n",
    "L += [5]"
   ]
  },
  {
   "cell_type": "code",
   "execution_count": 9,
   "metadata": {},
   "outputs": [
    {
     "name": "stdout",
     "output_type": "stream",
     "text": [
      "[2, 4, 6, 8, 10]\n",
      "[2 4 6]\n",
      "[2 4 6]\n",
      "[1 4 9]\n",
      "[1.         1.41421356 1.73205081]\n"
     ]
    }
   ],
   "source": [
    "L2=[]\n",
    "for e in L:\n",
    "    L2.append(e+e)\n",
    "print(L2)\n",
    "\n",
    "print (A*2)\n",
    "print (A+A)\n",
    "print (A**2)\n",
    "print (np.sqrt(A))"
   ]
  },
  {
   "cell_type": "code",
   "execution_count": 11,
   "metadata": {},
   "outputs": [
    {
     "name": "stdout",
     "output_type": "stream",
     "text": [
      "4\n",
      "4\n",
      "4\n"
     ]
    }
   ],
   "source": [
    "a = np.array([1,2])\n",
    "b = np.array([2,1])\n",
    "\n",
    "dot = 0\n",
    "\n",
    "for e, f in zip(a,b):\n",
    "    dot += e*f\n",
    "print(dot)\n",
    "\n",
    "print(np.sum(a*b))\n",
    "print(a.dot(b))"
   ]
  },
  {
   "cell_type": "code",
   "execution_count": null,
   "metadata": {},
   "outputs": [],
   "source": []
  },
  {
   "cell_type": "code",
   "execution_count": null,
   "metadata": {},
   "outputs": [],
   "source": [
    "# Matrices"
   ]
  },
  {
   "cell_type": "code",
   "execution_count": 10,
   "metadata": {},
   "outputs": [
    {
     "name": "stdout",
     "output_type": "stream",
     "text": "[[1 2 5]\n [3 4 6]]\n3.5\n2.9166666666666665\n"
    }
   ],
   "source": [
    "M1 = np.array([[1,2,5],[3,4,6]])\n",
    "print(M1)\n",
    "print(M1.mean())\n",
    "print(M1.var())"
   ]
  },
  {
   "cell_type": "code",
   "execution_count": 11,
   "metadata": {},
   "outputs": [
    {
     "name": "stdout",
     "output_type": "stream",
     "text": "[[0. 0. 0. 0. 0. 0. 0. 0. 0. 0.]\n [0. 0. 0. 0. 0. 0. 0. 0. 0. 0.]\n [0. 0. 0. 0. 0. 0. 0. 0. 0. 0.]\n [0. 0. 0. 0. 0. 0. 0. 0. 0. 0.]\n [0. 0. 0. 0. 0. 0. 0. 0. 0. 0.]\n [0. 0. 0. 0. 0. 0. 0. 0. 0. 0.]\n [0. 0. 0. 0. 0. 0. 0. 0. 0. 0.]\n [0. 0. 0. 0. 0. 0. 0. 0. 0. 0.]\n [0. 0. 0. 0. 0. 0. 0. 0. 0. 0.]\n [0. 0. 0. 0. 0. 0. 0. 0. 0. 0.]]\n[[0.96223837 0.63498936]\n [0.89179935 0.99853948]\n [0.97279196 0.1673199 ]]\n"
    },
    {
     "data": {
      "text/plain": "array([[  9,  56,  83],\n       [ 23, 102, 149]])"
     },
     "execution_count": 11,
     "metadata": {},
     "output_type": "execute_result"
    }
   ],
   "source": [
    "O = np.zeros((10,10))\n",
    "print (O)\n",
    "\n",
    "R = np.random.random((3,2))\n",
    "print(R)\n",
    "\n",
    "M2 = np.array([[5,6,15],[2,15,14],[0,4,8]])\n",
    "M1.dot(M2)"
   ]
  },
  {
   "cell_type": "code",
   "execution_count": 13,
   "metadata": {},
   "outputs": [
    {
     "name": "stdout",
     "output_type": "stream",
     "text": "[1500.  700.]\n"
    }
   ],
   "source": [
    "# Solving linear system\n",
    "# Ax=b\n",
    "# A is a matrix of parameters, b a vector and we want to find a vector x\n",
    "# Manual solution : invert(A)b=x\n",
    "A = np.array([[1,1], [1.5,4]])\n",
    "b = np.array([2200,5050])\n",
    "x = np.linalg.solve(A,b)\n",
    "print(x)\n",
    "\n"
   ]
  },
  {
   "cell_type": "code",
   "execution_count": null,
   "metadata": {},
   "outputs": [],
   "source": []
  }
 ],
 "metadata": {
  "kernelspec": {
   "display_name": "Python 3",
   "language": "python",
   "name": "python3"
  },
  "language_info": {
   "codemirror_mode": {
    "name": "ipython",
    "version": 3
   },
   "file_extension": ".py",
   "mimetype": "text/x-python",
   "name": "python",
   "nbconvert_exporter": "python",
   "pygments_lexer": "ipython3",
   "version": "3.7.6-final"
  }
 },
 "nbformat": 4,
 "nbformat_minor": 4
}