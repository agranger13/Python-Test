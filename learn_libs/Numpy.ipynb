{
 "cells": [
  {
   "cell_type": "code",
   "execution_count": 15,
   "metadata": {},
   "outputs": [],
   "source": [
    "import numpy as np"
   ]
  },
  {
   "cell_type": "code",
   "execution_count": null,
   "metadata": {},
   "outputs": [],
   "source": []
  },
  {
   "cell_type": "code",
   "execution_count": 16,
   "metadata": {},
   "outputs": [],
   "source": [
    "# LIST vs ARRAY"
   ]
  },
  {
   "cell_type": "code",
   "execution_count": 17,
   "metadata": {},
   "outputs": [],
   "source": [
    "L=[1,2,3]\n",
    "A=np.array([1,2,3])"
   ]
  },
  {
   "cell_type": "code",
   "execution_count": 18,
   "metadata": {},
   "outputs": [
    {
     "name": "stdout",
     "output_type": "stream",
     "text": "Boucle List\n1\n2\n3\nBoucle Array\n1\n2\n3\n"
    }
   ],
   "source": [
    "print (\"Boucle List\")\n",
    "for e in L:\n",
    "    print (e)\n",
    "\n",
    "print (\"Boucle Array\")\n",
    "for e in A :\n",
    "    print (e)"
   ]
  },
  {
   "cell_type": "code",
   "execution_count": 19,
   "metadata": {},
   "outputs": [
    {
     "name": "stdout",
     "output_type": "stream",
     "text": "Append new element only in list\n"
    }
   ],
   "source": [
    "print (\"Append new element only in list\")\n",
    "L.append(4)\n",
    "L += [5]"
   ]
  },
  {
   "cell_type": "code",
   "execution_count": 20,
   "metadata": {},
   "outputs": [
    {
     "name": "stdout",
     "output_type": "stream",
     "text": "[2, 4, 6, 8, 10]\n[2 4 6]\n[2 4 6]\n[1 4 9]\n[1.         1.41421356 1.73205081]\n"
    }
   ],
   "source": [
    "L2=[]\n",
    "for e in L:\n",
    "    L2.append(e+e)\n",
    "print(L2)\n",
    "\n",
    "print (A*2)\n",
    "print (A+A)\n",
    "print (A**2)\n",
    "print (np.sqrt(A))"
   ]
  },
  {
   "cell_type": "code",
   "execution_count": 21,
   "metadata": {},
   "outputs": [
    {
     "name": "stdout",
     "output_type": "stream",
     "text": "4\n4\n4\n"
    }
   ],
   "source": [
    "a = np.array([1,2])\n",
    "b = np.array([2,1])\n",
    "\n",
    "dot = 0\n",
    "\n",
    "for e, f in zip(a,b):\n",
    "    dot += e*f\n",
    "print(dot)\n",
    "\n",
    "print(np.sum(a*b))\n",
    "print(a.dot(b))"
   ]
  },
  {
   "cell_type": "code",
   "execution_count": null,
   "metadata": {},
   "outputs": [],
   "source": []
  },
  {
   "cell_type": "code",
   "execution_count": 22,
   "metadata": {},
   "outputs": [],
   "source": [
    "# Matrices"
   ]
  },
  {
   "cell_type": "code",
   "execution_count": 23,
   "metadata": {},
   "outputs": [
    {
     "name": "stdout",
     "output_type": "stream",
     "text": "[[1 2 5]\n [3 4 6]]\n3.5\n2.9166666666666665\n"
    }
   ],
   "source": [
    "M1 = np.array([[1,2,5],[3,4,6]])\n",
    "print(M1)\n",
    "print(M1.mean())\n",
    "print(M1.var())"
   ]
  },
  {
   "cell_type": "code",
   "execution_count": 24,
   "metadata": {},
   "outputs": [
    {
     "name": "stdout",
     "output_type": "stream",
     "text": "[[0. 0. 0. 0. 0. 0. 0. 0. 0. 0.]\n [0. 0. 0. 0. 0. 0. 0. 0. 0. 0.]\n [0. 0. 0. 0. 0. 0. 0. 0. 0. 0.]\n [0. 0. 0. 0. 0. 0. 0. 0. 0. 0.]\n [0. 0. 0. 0. 0. 0. 0. 0. 0. 0.]\n [0. 0. 0. 0. 0. 0. 0. 0. 0. 0.]\n [0. 0. 0. 0. 0. 0. 0. 0. 0. 0.]\n [0. 0. 0. 0. 0. 0. 0. 0. 0. 0.]\n [0. 0. 0. 0. 0. 0. 0. 0. 0. 0.]\n [0. 0. 0. 0. 0. 0. 0. 0. 0. 0.]]\n[[0.97287396 0.58059253]\n [0.50174672 0.18405145]\n [0.16289166 0.42880475]]\n[[ 1.67143683  0.24045313]\n [-0.58978468 -0.18946414]\n [-0.38152164  0.02616306]]\n"
    },
    {
     "data": {
      "text/plain": "array([[  9,  56,  83],\n       [ 23, 102, 149]])"
     },
     "execution_count": 24,
     "metadata": {},
     "output_type": "execute_result"
    }
   ],
   "source": [
    "O = np.zeros((10,10))\n",
    "print (O)\n",
    "\n",
    "R = np.random.random((3,2))\n",
    "print(R)\n",
    "# random gaussien distribution (loi normal)\n",
    "R = np.random.randn(3,2)\n",
    "print(R)\n",
    "\n",
    "# dot operation different than * operation\n",
    "M2 = np.array([[5,6,15],[2,15,14],[0,4,8]])\n",
    "M1.dot(M2)"
   ]
  },
  {
   "cell_type": "code",
   "execution_count": 25,
   "metadata": {},
   "outputs": [
    {
     "name": "stdout",
     "output_type": "stream",
     "text": "[1500.  700.]\n"
    }
   ],
   "source": [
    "# Solving linear system\n",
    "# Ax=b\n",
    "# A is a matrix of parameters, b a vector and we want to find a vector x\n",
    "# Manual solution : invert(A)b=x\n",
    "A = np.array([[1,1], [1.5,4]])\n",
    "b = np.array([2200,5050])\n",
    "x = np.linalg.solve(A,b)\n",
    "print(x)\n",
    "\n"
   ]
  },
  {
   "cell_type": "code",
   "execution_count": null,
   "metadata": {},
   "outputs": [],
   "source": []
  }
 ],
 "metadata": {
  "kernelspec": {
   "display_name": "Python 3",
   "language": "python",
   "name": "python3"
  },
  "language_info": {
   "codemirror_mode": {
    "name": "ipython",
    "version": 3
   },
   "file_extension": ".py",
   "mimetype": "text/x-python",
   "name": "python",
   "nbconvert_exporter": "python",
   "pygments_lexer": "ipython3",
   "version": "3.7.6-final"
  }
 },
 "nbformat": 4,
 "nbformat_minor": 4
}